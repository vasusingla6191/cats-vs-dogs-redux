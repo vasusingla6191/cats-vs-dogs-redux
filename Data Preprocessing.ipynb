{
 "cells": [
  {
   "cell_type": "markdown",
   "metadata": {},
   "source": [
    "# Data Preprocessing Notebook\n",
    "\n",
    "## Ensure structure before beginning the notebook is as below\n",
    "```\n",
    "-Model Notebooks\n",
    "-data\n",
    "    -train\n",
    "        -ALB\n",
    "        -BET\n",
    "        -DOL\n",
    "        -...\n",
    "    -test_stg1\n",
    "        -unknown\n",
    "            -112.jpg\n",
    "            -119.jpg\n",
    "    -__MACOSX\n",
    "        -train\n",
    "```"
   ]
  },
  {
   "cell_type": "markdown",
   "metadata": {},
   "source": [
    "## After Running Notebook Sample and Validation set must be created"
   ]
  },
  {
   "cell_type": "code",
   "execution_count": 1,
   "metadata": {
    "collapsed": false
   },
   "outputs": [
    {
     "data": {
      "text/plain": [
       "u'/data/home/ubuntu/cats-vs-dogs'"
      ]
     },
     "execution_count": 1,
     "metadata": {},
     "output_type": "execute_result"
    }
   ],
   "source": [
    "%pwd"
   ]
  },
  {
   "cell_type": "code",
   "execution_count": 2,
   "metadata": {
    "collapsed": true
   },
   "outputs": [],
   "source": [
    "import os\n",
    "DATA_DIR=os.getcwd()+'/data'"
   ]
  },
  {
   "cell_type": "code",
   "execution_count": 3,
   "metadata": {
    "collapsed": false
   },
   "outputs": [
    {
     "name": "stdout",
     "output_type": "stream",
     "text": [
      "/data/home/ubuntu/cats-vs-dogs/data\n"
     ]
    }
   ],
   "source": [
    "%cd $DATA_DIR"
   ]
  },
  {
   "cell_type": "markdown",
   "metadata": {},
   "source": [
    "    Get Directory Iterator for Train"
   ]
  },
  {
   "cell_type": "code",
   "execution_count": 4,
   "metadata": {
    "collapsed": false
   },
   "outputs": [
    {
     "name": "stdout",
     "output_type": "stream",
     "text": [
      "/data/home/ubuntu/cats-vs-dogs/data/train\n"
     ]
    }
   ],
   "source": [
    "import glob\n",
    "import numpy as np\n",
    "#%mkdir valid\n",
    "%cd train\n",
    "%pwd\n",
    "y=glob.glob('*')\n",
    "for directory in y:\n",
    "    g=glob.glob(directory+'/*')\n",
    "    os.mkdir('../valid/'+directory)\n",
    "    z=np.random.permutation(g)\n",
    "    val_use=z[:3*len(z)//10]\n",
    "    for val in val_use:\n",
    "        os.rename(val,os.getcwd()+'/../valid/'+val)\n",
    "    "
   ]
  },
  {
   "cell_type": "markdown",
   "metadata": {},
   "source": [
    "## Now for the sample data"
   ]
  },
  {
   "cell_type": "code",
   "execution_count": 5,
   "metadata": {
    "collapsed": false
   },
   "outputs": [
    {
     "name": "stdout",
     "output_type": "stream",
     "text": [
      "/data/home/ubuntu/cats-vs-dogs/data\n"
     ]
    }
   ],
   "source": [
    "%cd $DATA_DIR"
   ]
  },
  {
   "cell_type": "code",
   "execution_count": 6,
   "metadata": {
    "collapsed": true
   },
   "outputs": [],
   "source": [
    "from shutil import copyfile\n",
    "%mkdir sample/train -p\n",
    "#%mkdir sample/test_stg1 -p\n",
    "%mkdir sample/valid -p"
   ]
  },
  {
   "cell_type": "code",
   "execution_count": 7,
   "metadata": {
    "collapsed": false
   },
   "outputs": [
    {
     "name": "stdout",
     "output_type": "stream",
     "text": [
      "/data/home/ubuntu/cats-vs-dogs/data/train\n"
     ]
    }
   ],
   "source": [
    "import glob\n",
    "import numpy as np\n",
    "%cd train\n",
    "y=glob.glob('*')\n",
    "for directory in y:\n",
    "    g=glob.glob(directory+'/*')\n",
    "    os.mkdir('../sample/train/'+directory)\n",
    "    z=np.random.permutation(g)\n",
    "    val_use=z[:1*len(z)//10]\n",
    "    for val in val_use:\n",
    "        copyfile(val,os.getcwd()+'/../sample/train/'+val)"
   ]
  },
  {
   "cell_type": "code",
   "execution_count": 8,
   "metadata": {
    "collapsed": false
   },
   "outputs": [
    {
     "name": "stdout",
     "output_type": "stream",
     "text": [
      "/data/home/ubuntu/cats-vs-dogs/data/valid\n"
     ]
    }
   ],
   "source": [
    "%cd $DATA_DIR/valid"
   ]
  },
  {
   "cell_type": "code",
   "execution_count": 9,
   "metadata": {
    "collapsed": true
   },
   "outputs": [],
   "source": [
    "y=glob.glob('*')\n",
    "for directory in y:\n",
    "    g=glob.glob(directory+'/*')\n",
    "    os.mkdir('../sample/valid/'+directory)\n",
    "    z=np.random.permutation(g)\n",
    "    val_use=z[:1*len(z)//10]\n",
    "    for val in val_use:\n",
    "        copyfile(val,os.getcwd()+'/../sample/valid/'+val)"
   ]
  },
  {
   "cell_type": "code",
   "execution_count": 10,
   "metadata": {
    "collapsed": false
   },
   "outputs": [
    {
     "name": "stdout",
     "output_type": "stream",
     "text": [
      "/data/home/ubuntu/cats-vs-dogs/data/test\n"
     ]
    }
   ],
   "source": [
    "%cd $DATA_DIR/test"
   ]
  },
  {
   "cell_type": "code",
   "execution_count": 11,
   "metadata": {
    "collapsed": true
   },
   "outputs": [],
   "source": [
    "y=glob.glob('*')\n",
    "for directory in y:\n",
    "    g=glob.glob(directory+'/*')\n",
    "    os.mkdir('../sample/test/'+directory)\n",
    "    z=np.random.permutation(g)\n",
    "    val_use=z[:1*len(z)//10]\n",
    "    for val in val_use:\n",
    "        copyfile(val,os.getcwd()+'/../sample/test/'+val)"
   ]
  },
  {
   "cell_type": "markdown",
   "metadata": {},
   "source": [
    "## This concludes the file structure preprocessing\n",
    "\n",
    "### The directory tree now looks as follows\n",
    "```\n",
    "-data\n",
    "    -train\n",
    "        -ALB\n",
    "        -BET\n",
    "        -DOL\n",
    "        -...\n",
    "    -test_stg1\n",
    "        -unknown\n",
    "            -112.jpg\n",
    "            -119.jpg\n",
    "    -__MACOSX\n",
    "        -train\n",
    "    -valid\n",
    "        -ALB\n",
    "        -BET\n",
    "        -DOL\n",
    "        -...\n",
    "    -sample\n",
    "        -train\n",
    "            -ALB\n",
    "            -BET\n",
    "            -DOL\n",
    "            -...\n",
    "        -test_stg1\n",
    "            -unknown\n",
    "                -112.jpg\n",
    "                -...\n",
    "         -valid\n",
    "             -ALB\n",
    "             -BET\n",
    "             -DOG\n",
    "\n",
    "\n",
    "\n",
    "\n",
    "```"
   ]
  },
  {
   "cell_type": "code",
   "execution_count": null,
   "metadata": {
    "collapsed": true
   },
   "outputs": [],
   "source": []
  }
 ],
 "metadata": {
  "anaconda-cloud": {},
  "kernelspec": {
   "display_name": "Python [default]",
   "language": "python",
   "name": "python2"
  },
  "language_info": {
   "codemirror_mode": {
    "name": "ipython",
    "version": 2
   },
   "file_extension": ".py",
   "mimetype": "text/x-python",
   "name": "python",
   "nbconvert_exporter": "python",
   "pygments_lexer": "ipython2",
   "version": "2.7.12"
  }
 },
 "nbformat": 4,
 "nbformat_minor": 2
}
